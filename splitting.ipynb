{
 "cells": [
  {
   "cell_type": "code",
   "execution_count": 1,
   "id": "f2d51fc0",
   "metadata": {},
   "outputs": [],
   "source": [
    "import os\n",
    "from spectra.services.audio.stems import StemSplitter"
   ]
  },
  {
   "cell_type": "code",
   "execution_count": 2,
   "id": "e0e32b04",
   "metadata": {},
   "outputs": [
    {
     "name": "stderr",
     "output_type": "stream",
     "text": [
      "/home/campbell/anaconda3/envs/spectra/lib/python3.11/site-packages/torchaudio/pipelines/_source_separation_pipeline.py:55: UserWarning: torchaudio.utils.download.download_asset has been deprecated. This deprecation is part of a large refactoring effort to transition TorchAudio into a maintenance phase. Please see https://github.com/pytorch/audio/issues/3902 for more information. It will be removed from the 2.9 release. \n",
      "  path = torchaudio.utils.download_asset(self._model_path)\n"
     ]
    }
   ],
   "source": [
    "model = StemSplitter(load_on_init=True)"
   ]
  },
  {
   "cell_type": "code",
   "execution_count": 3,
   "id": "57be5c6c",
   "metadata": {},
   "outputs": [
    {
     "name": "stdout",
     "output_type": "stream",
     "text": [
      "cuda:0\n"
     ]
    }
   ],
   "source": [
    "print(model.device)"
   ]
  },
  {
   "cell_type": "code",
   "execution_count": 4,
   "id": "06ec7899",
   "metadata": {},
   "outputs": [],
   "source": [
    "path_to_audio = \"./test_data/sahara_cowboy.wav\""
   ]
  },
  {
   "cell_type": "code",
   "execution_count": null,
   "id": "c39d59a0",
   "metadata": {},
   "outputs": [
    {
     "name": "stdout",
     "output_type": "stream",
     "text": [
      "Level=info : Building dataset from ./test_data/sahara_cowboy.wav\n"
     ]
    },
    {
     "name": "stderr",
     "output_type": "stream",
     "text": [
      "/home/campbell/anaconda3/envs/spectra/lib/python3.11/site-packages/torchaudio/_backend/utils.py:213: UserWarning: In 2.9, this function's implementation will be changed to use torchaudio.load_with_torchcodec` under the hood. Some parameters like ``normalize``, ``format``, ``buffer_size``, and ``backend`` will be ignored. We recommend that you port your code to rely directly on TorchCodec's decoder instead: https://docs.pytorch.org/torchcodec/stable/generated/torchcodec.decoders.AudioDecoder.html#torchcodec.decoders.AudioDecoder.\n",
      "  warnings.warn(\n"
     ]
    },
    {
     "name": "stdout",
     "output_type": "stream",
     "text": [
      "Level=info : Before Normalization - max: 0.999969482421875, min: -1.0\n",
      "Level=info : Found audio: sample rate=44100 waveform shape=torch.Size([2, 8121792]), normalize_waveform=True\n",
      "Level=info : Unnormalized - max: 1.1065762042999268, min: -1.2268123626708984\n"
     ]
    },
    {
     "name": "stderr",
     "output_type": "stream",
     "text": [
      "/home/campbell/anaconda3/envs/spectra/lib/python3.11/site-packages/torchaudio/_backend/utils.py:337: UserWarning: In 2.9, this function's implementation will be changed to use torchaudio.save_with_torchcodec` under the hood. Some parameters like format, encoding, bits_per_sample, buffer_size, and ``backend`` will be ignored. We recommend that you port your code to rely directly on TorchCodec's encoder instead: https://docs.pytorch.org/torchcodec/stable/generated/torchcodec.encoders.AudioEncoder\n",
      "  warnings.warn(\n"
     ]
    }
   ],
   "source": [
    "keys, audios, file_paths = model(path_to_audio, output_path=\"./output\")"
   ]
  }
 ],
 "metadata": {
  "kernelspec": {
   "display_name": "spectra",
   "language": "python",
   "name": "python3"
  },
  "language_info": {
   "codemirror_mode": {
    "name": "ipython",
    "version": 3
   },
   "file_extension": ".py",
   "mimetype": "text/x-python",
   "name": "python",
   "nbconvert_exporter": "python",
   "pygments_lexer": "ipython3",
   "version": "3.11.13"
  }
 },
 "nbformat": 4,
 "nbformat_minor": 5
}
